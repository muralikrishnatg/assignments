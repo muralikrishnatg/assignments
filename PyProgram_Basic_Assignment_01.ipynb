{
 "cells": [
  {
   "cell_type": "markdown",
   "id": "3d361a19",
   "metadata": {},
   "source": [
    "### 1. Write a Python program to print \"Hello Python\"?"
   ]
  },
  {
   "cell_type": "code",
   "execution_count": 4,
   "id": "e219cbe2",
   "metadata": {},
   "outputs": [
    {
     "name": "stdout",
     "output_type": "stream",
     "text": [
      "Hello Python\n"
     ]
    }
   ],
   "source": [
    "# program printing Hello Python\n",
    "\n",
    "def say_hello(string):\n",
    "    print(\"Hello\", string)\n",
    "\n",
    "say_hello(\"Python\")"
   ]
  },
  {
   "cell_type": "markdown",
   "id": "b323e653",
   "metadata": {},
   "source": [
    "### 2. Write a Python program to do arithmetical operations addition and division?"
   ]
  },
  {
   "cell_type": "code",
   "execution_count": 3,
   "id": "e0969ac4",
   "metadata": {},
   "outputs": [
    {
     "name": "stdout",
     "output_type": "stream",
     "text": [
      "enter first number: 100\n",
      "enter second number: 200\n",
      "addition of 100.0 and 200.0 is 300.0\n",
      "dividing 100.0 with 200.0 gets 0.5\n"
     ]
    }
   ],
   "source": [
    "# program showing addition and division\n",
    "\n",
    "var1 = float(input(\"enter first number: \"))\n",
    "var2 = float(input(\"enter second number: \"))\n",
    "\n",
    "print(\"addition of {} and {} is {}\".format(var1, var2, var1+var2))\n",
    "print(\"dividing {} with {} gets {}\".format(var1, var2, var1/var2))"
   ]
  },
  {
   "cell_type": "markdown",
   "id": "93a6d999",
   "metadata": {},
   "source": [
    "### 3. Write a Python program to find the area of a triangle?"
   ]
  },
  {
   "cell_type": "code",
   "execution_count": 12,
   "id": "a9a71168",
   "metadata": {},
   "outputs": [
    {
     "name": "stdout",
     "output_type": "stream",
     "text": [
      "Enter first side: 2\n",
      "Enter second side: 3\n",
      "Enter third side: 4\n",
      "The area of the triangle is 2.9047375096555625\n"
     ]
    }
   ],
   "source": [
    "# Python Program to find the area of triangle\n",
    "a = float(input('Enter first side: '))\n",
    "b = float(input('Enter second side: '))\n",
    "c = float(input('Enter third side: '))\n",
    "\n",
    "# semi-perimeter\n",
    "s = (a + b + c) / 2\n",
    "\n",
    "# calculate the area\n",
    "area = (s*(s-a)*(s-b)*(s-c)) ** 0.5\n",
    "print(\"The area of the triangle is {}\".format(area))\n",
    "    "
   ]
  },
  {
   "cell_type": "markdown",
   "id": "88d2aba6",
   "metadata": {},
   "source": [
    "### 4. Write a Python program to swap two variables?"
   ]
  },
  {
   "cell_type": "code",
   "execution_count": 21,
   "id": "8ef2a816",
   "metadata": {},
   "outputs": [
    {
     "name": "stdout",
     "output_type": "stream",
     "text": [
      "x:  20\n",
      "y:  10\n"
     ]
    }
   ],
   "source": [
    "# Python program to swap two variables without using temp variable\n",
    "x = 10\n",
    "y = 20\n",
    "\n",
    "# swapping using temp variable\n",
    "temp = x; x = y; y = temp\n",
    "\n",
    "print(\"x: \", x)\n",
    "print(\"y: \", y)"
   ]
  },
  {
   "cell_type": "markdown",
   "id": "529ca0f0",
   "metadata": {},
   "source": [
    "### 5. Write a Python program to generate a random number?"
   ]
  },
  {
   "cell_type": "code",
   "execution_count": 17,
   "id": "1c292686",
   "metadata": {},
   "outputs": [
    {
     "name": "stdout",
     "output_type": "stream",
     "text": [
      "0.307245588552543\n"
     ]
    }
   ],
   "source": [
    "import random\n",
    "\n",
    "print(random.random())"
   ]
  }
 ],
 "metadata": {
  "kernelspec": {
   "display_name": "Python 3",
   "language": "python",
   "name": "python3"
  },
  "language_info": {
   "codemirror_mode": {
    "name": "ipython",
    "version": 3
   },
   "file_extension": ".py",
   "mimetype": "text/x-python",
   "name": "python",
   "nbconvert_exporter": "python",
   "pygments_lexer": "ipython3",
   "version": "3.8.8"
  }
 },
 "nbformat": 4,
 "nbformat_minor": 5
}

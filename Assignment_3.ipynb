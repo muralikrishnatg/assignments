{
  "nbformat": 4,
  "nbformat_minor": 0,
  "metadata": {
    "colab": {
      "name": "Copy of Assignment_3.ipynb",
      "provenance": [],
      "collapsed_sections": [],
      "authorship_tag": "ABX9TyNi45TFxqNpOuFiso2pZTe0",
      "include_colab_link": true
    },
    "kernelspec": {
      "name": "python3",
      "display_name": "Python 3"
    },
    "language_info": {
      "name": "python"
    }
  },
  "cells": [
    {
      "cell_type": "markdown",
      "metadata": {
        "id": "view-in-github",
        "colab_type": "text"
      },
      "source": [
        "<a href=\"https://colab.research.google.com/github/muralikrishnatg/assignments/blob/main/Assignment_3.ipynb\" target=\"_parent\"><img src=\"https://colab.research.google.com/assets/colab-badge.svg\" alt=\"Open In Colab\"/></a>"
      ]
    },
    {
      "cell_type": "code",
      "metadata": {
        "id": "8QPJfb6c0HH5"
      },
      "source": [
        ""
      ],
      "execution_count": null,
      "outputs": []
    },
    {
      "cell_type": "markdown",
      "metadata": {
        "id": "_TO6i4y50UjS"
      },
      "source": [
        " \n",
        " **1. Why are functions advantageous to have in your programs?** \n",
        "\n",
        "**2. When does the code in a function run: when it's specified or when it's called?**\n",
        "\n",
        "**3. What statement creates a function?**\n",
        "\n",
        "**4. What is the difference between a function and a function call?**\n",
        "\n",
        "**5. How many global scopes are there in a Python program? How many local scopes?**\n",
        "\n",
        "**6. What happens to variables in a local scope when the function call returns?**\n",
        "\n",
        "**7. What is the concept of a return value? Is it possible to have a return value in an expression?**\n",
        "\n",
        "**8. If a function does not have a return statement, what is the return value of a call to that function?**\n",
        "\n",
        "**9. How do you make a function variable refer to the global variable?**\n",
        "\n",
        "**10. What is the data type of None?** \n",
        "NoneType\n",
        "\n",
        "**11. What does the sentence import areallyourpetsnamederic do?**\n",
        "\n",
        "**12. If you had a bacon() feature in a spam module, what would you call it after importing spam?**\n",
        "spam.bacon()\n",
        "\n",
        "**13. What can you do to save a programme from crashing if it encounters an error?**\n",
        "\n",
        "**14. What is the purpose of the try clause? What is the purpose of the except clause?**\n",
        "\n"
      ]
    }
  ]
}